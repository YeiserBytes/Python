{
 "cells": [
  {
   "cell_type": "code",
   "execution_count": 17,
   "id": "ebe0372f-d842-4695-9161-7018233825b3",
   "metadata": {
    "tags": []
   },
   "outputs": [
    {
     "name": "stdout",
     "output_type": "stream",
     "text": [
      "Mi nombre es Yeiser y tengo 19 de edad\n"
     ]
    }
   ],
   "source": [
    "name = \"Yeiser\"\n",
    "age = 19\n",
    "print(f'Mi nombre es {name} y tengo {age} de edad')"
   ]
  },
  {
   "cell_type": "markdown",
   "id": "c6ba1b29-c062-4dce-ad0c-28c8f1b203cb",
   "metadata": {
    "tags": []
   },
   "source": [
    "num1 = float(input(\"Ingrese el primer numero: \"))\n",
    "num2 = float(input(\"Ingrese el segundo numero: \"))\n",
    "def sum_num(num1, num2) -> None:\n",
    "    return sum(num1, num2)\n",
    "sum_num(num)"
   ]
  },
  {
   "cell_type": "code",
   "execution_count": 18,
   "id": "3b2631bf-d03d-4552-850d-cbeecdda89d1",
   "metadata": {
    "tags": []
   },
   "outputs": [
    {
     "name": "stdout",
     "output_type": "stream",
     "text": [
      "1\n",
      "4\n",
      "5\n",
      "1\n",
      "3\n",
      "4\n",
      "5\n",
      "7\n",
      "8\n",
      "9\n",
      "3\n",
      "6\n",
      "42\n",
      "5\n"
     ]
    }
   ],
   "source": [
    "lists_numbers = [1, 4, 5 , 1, 3, 4, 5, 7, 8, 9, 3, 6, 42, 5]\n",
    "for i in lists_numbers:\n",
    "    print(i)"
   ]
  },
  {
   "cell_type": "code",
   "execution_count": 35,
   "id": "1d975bee-de44-4332-855a-45c8e376d110",
   "metadata": {
    "tags": []
   },
   "outputs": [
    {
     "name": "stdin",
     "output_type": "stream",
     "text": [
      "Ingrese un numero:  5.5\n",
      "Ingrese un numero:  5\n"
     ]
    },
    {
     "data": {
      "text/plain": [
       "10"
      ]
     },
     "execution_count": 35,
     "metadata": {},
     "output_type": "execute_result"
    }
   ],
   "source": [
    "num1 = float(input(\"Ingrese un numero: \"))\n",
    "num2 = float(input(\"Ingrese un numero: \"))\n",
    "\n",
    "def sum_num(num1, num2):\n",
    "    if num1 != float and num2 != float:\n",
    "        return int(num1 + num2)\n",
    "    else:\n",
    "        return num1 + num2\n",
    "\n",
    "sum_num(num1, num2)"
   ]
  }
 ],
 "metadata": {
  "kernelspec": {
   "display_name": "Python 3 (ipykernel)",
   "language": "python",
   "name": "python3"
  },
  "language_info": {
   "codemirror_mode": {
    "name": "ipython",
    "version": 3
   },
   "file_extension": ".py",
   "mimetype": "text/x-python",
   "name": "python",
   "nbconvert_exporter": "python",
   "pygments_lexer": "ipython3",
   "version": "3.11.2"
  }
 },
 "nbformat": 4,
 "nbformat_minor": 5
}
